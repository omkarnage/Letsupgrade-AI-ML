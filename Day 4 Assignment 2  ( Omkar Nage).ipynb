{
 "cells": [
  {
   "cell_type": "markdown",
   "metadata": {},
   "source": [
    "# QUESTION 1\n",
    "  \n",
    "   Research on whether addition, subtraction, multiplication, division, floor division and modulo\n",
    "   operations be performed on complex numbers. Based on your study, implement a Python\n",
    "   program to demonstrate these operations"
   ]
  },
  {
   "cell_type": "code",
   "execution_count": 7,
   "metadata": {},
   "outputs": [
    {
     "name": "stdout",
     "output_type": "stream",
     "text": [
      "(18+28j)\n"
     ]
    }
   ],
   "source": [
    "# addition performed on complex number\n",
    "\n",
    "a = 11 + 18j\n",
    "b = 7  + 10j\n",
    "c = a  + b\n",
    "print(c)"
   ]
  },
  {
   "cell_type": "code",
   "execution_count": 14,
   "metadata": {},
   "outputs": [
    {
     "name": "stdout",
     "output_type": "stream",
     "text": [
      "(4+28j)\n"
     ]
    }
   ],
   "source": [
    "# Substraction performed on complex number\n",
    "\n",
    "a = 11 + 18j\n",
    "b = 7  - 10j\n",
    "c = a  - b\n",
    "print(c)"
   ]
  },
  {
   "cell_type": "code",
   "execution_count": 13,
   "metadata": {},
   "outputs": [
    {
     "name": "stdout",
     "output_type": "stream",
     "text": [
      "(19+33j)\n"
     ]
    }
   ],
   "source": [
    "# multiplication performed on complex number\n",
    "\n",
    "a = 2  + 5j\n",
    "b = 7  - 1j\n",
    "c = a*b\n",
    "print(c)"
   ]
  },
  {
   "cell_type": "code",
   "execution_count": 19,
   "metadata": {},
   "outputs": [
    {
     "name": "stdout",
     "output_type": "stream",
     "text": [
      "(1.0188679245283019+0.4339622641509434j)\n"
     ]
    }
   ],
   "source": [
    "# divison perfomed on complex number\n",
    "\n",
    "a = 8 + 1j\n",
    "b = 7 - 2j\n",
    "c = a/b\n",
    "print(c)"
   ]
  },
  {
   "cell_type": "code",
   "execution_count": 20,
   "metadata": {},
   "outputs": [
    {
     "ename": "TypeError",
     "evalue": "can't take floor of complex number.",
     "output_type": "error",
     "traceback": [
      "\u001b[1;31m---------------------------------------------------------------------------\u001b[0m",
      "\u001b[1;31mTypeError\u001b[0m                                 Traceback (most recent call last)",
      "\u001b[1;32m<ipython-input-20-873dc62649dd>\u001b[0m in \u001b[0;36m<module>\u001b[1;34m\u001b[0m\n\u001b[0;32m      3\u001b[0m \u001b[0ma\u001b[0m \u001b[1;33m=\u001b[0m \u001b[1;36m2\u001b[0m  \u001b[1;33m+\u001b[0m \u001b[1;36m5j\u001b[0m\u001b[1;33m\u001b[0m\u001b[1;33m\u001b[0m\u001b[0m\n\u001b[0;32m      4\u001b[0m \u001b[0mb\u001b[0m \u001b[1;33m=\u001b[0m \u001b[1;36m7\u001b[0m  \u001b[1;33m-\u001b[0m \u001b[1;36m1j\u001b[0m\u001b[1;33m\u001b[0m\u001b[1;33m\u001b[0m\u001b[0m\n\u001b[1;32m----> 5\u001b[1;33m \u001b[0mc\u001b[0m \u001b[1;33m=\u001b[0m \u001b[0ma\u001b[0m\u001b[1;33m//\u001b[0m\u001b[0mb\u001b[0m\u001b[1;33m\u001b[0m\u001b[1;33m\u001b[0m\u001b[0m\n\u001b[0m\u001b[0;32m      6\u001b[0m \u001b[0mprint\u001b[0m\u001b[1;33m(\u001b[0m\u001b[0mc\u001b[0m\u001b[1;33m)\u001b[0m\u001b[1;33m\u001b[0m\u001b[1;33m\u001b[0m\u001b[0m\n",
      "\u001b[1;31mTypeError\u001b[0m: can't take floor of complex number."
     ]
    }
   ],
   "source": [
    "# Floor division on complex number\n",
    "\n",
    "a = 2  + 5j\n",
    "b = 7  - 1j\n",
    "c = a//b\n",
    "print(c)\n"
   ]
  },
  {
   "cell_type": "markdown",
   "metadata": {},
   "source": [
    "# As we see above, the output we get is a TypeError. Floor divison cannot be perfomed on complex number"
   ]
  },
  {
   "cell_type": "code",
   "execution_count": 25,
   "metadata": {},
   "outputs": [
    {
     "ename": "TypeError",
     "evalue": "can't mod complex numbers.",
     "output_type": "error",
     "traceback": [
      "\u001b[1;31m---------------------------------------------------------------------------\u001b[0m",
      "\u001b[1;31mTypeError\u001b[0m                                 Traceback (most recent call last)",
      "\u001b[1;32m<ipython-input-25-8c84053055bc>\u001b[0m in \u001b[0;36m<module>\u001b[1;34m\u001b[0m\n\u001b[0;32m      3\u001b[0m \u001b[0ma\u001b[0m \u001b[1;33m=\u001b[0m \u001b[1;36m8\u001b[0m \u001b[1;33m+\u001b[0m \u001b[1;36m1j\u001b[0m\u001b[1;33m\u001b[0m\u001b[1;33m\u001b[0m\u001b[0m\n\u001b[0;32m      4\u001b[0m \u001b[0mb\u001b[0m \u001b[1;33m=\u001b[0m \u001b[1;36m7\u001b[0m \u001b[1;33m-\u001b[0m \u001b[1;36m2j\u001b[0m\u001b[1;33m\u001b[0m\u001b[1;33m\u001b[0m\u001b[0m\n\u001b[1;32m----> 5\u001b[1;33m \u001b[0mc\u001b[0m \u001b[1;33m=\u001b[0m \u001b[0ma\u001b[0m\u001b[1;33m%\u001b[0m\u001b[0mb\u001b[0m\u001b[1;33m\u001b[0m\u001b[1;33m\u001b[0m\u001b[0m\n\u001b[0m\u001b[0;32m      6\u001b[0m \u001b[0mprint\u001b[0m\u001b[1;33m(\u001b[0m\u001b[0mc\u001b[0m\u001b[1;33m)\u001b[0m\u001b[1;33m\u001b[0m\u001b[1;33m\u001b[0m\u001b[0m\n",
      "\u001b[1;31mTypeError\u001b[0m: can't mod complex numbers."
     ]
    }
   ],
   "source": [
    "# Modulo operation performed on complex number\n",
    "\n",
    "a = 8 + 1j\n",
    "b = 7 - 2j\n",
    "c = a%b\n",
    "print(c)"
   ]
  },
  {
   "cell_type": "markdown",
   "metadata": {},
   "source": [
    "# As we see above, the output we get is a TypeError. Modulo operation cannot be perfomed on complex number"
   ]
  },
  {
   "cell_type": "markdown",
   "metadata": {},
   "source": [
    "# QUESTION 2\n",
    "\n",
    "  Research on range() functions and its parameters. Create a markdown cell and write in your own\n",
    "  words (no copy-paste from google please) what you understand about it. Implement a small\n",
    "  program of your choice on the same."
   ]
  },
  {
   "cell_type": "markdown",
   "metadata": {},
   "source": [
    "# The range() function is uesd to represent a set of numbers upto n-1, starting from 0(initial value), (n-1)th value increments and stop before a specified number"
   ]
  },
  {
   "cell_type": "markdown",
   "metadata": {},
   "source": [
    "# Range() fuction are used with loops"
   ]
  },
  {
   "cell_type": "code",
   "execution_count": 28,
   "metadata": {},
   "outputs": [
    {
     "data": {
      "text/plain": [
       "range(0, 10)"
      ]
     },
     "execution_count": 28,
     "metadata": {},
     "output_type": "execute_result"
    }
   ],
   "source": [
    "range(10)"
   ]
  },
  {
   "cell_type": "markdown",
   "metadata": {},
   "source": [
    "Here above cells displays a set which has values ranging 0 to 9 which can be written as range(10)\n"
   ]
  },
  {
   "cell_type": "code",
   "execution_count": 15,
   "metadata": {},
   "outputs": [
    {
     "name": "stdout",
     "output_type": "stream",
     "text": [
      "0\n",
      "1\n",
      "2\n",
      "3\n",
      "4\n",
      "5\n",
      "6\n",
      "7\n",
      "8\n",
      "9\n"
     ]
    },
    {
     "data": {
      "text/plain": [
       "[0, 1, 2, 3, 4, 5, 6, 7, 8, 9]"
      ]
     },
     "execution_count": 15,
     "metadata": {},
     "output_type": "execute_result"
    }
   ],
   "source": [
    "# Used for loop in range\n",
    "# Range(n) 0 to (n-1)\n",
    "for i in range(10):\n",
    "    print(i)\n",
    "list(range(10))    "
   ]
  },
  {
   "cell_type": "code",
   "execution_count": 16,
   "metadata": {},
   "outputs": [
    {
     "name": "stdout",
     "output_type": "stream",
     "text": [
      "4\n",
      "5\n",
      "6\n",
      "7\n",
      "8\n",
      "9\n"
     ]
    },
    {
     "data": {
      "text/plain": [
       "[4, 5, 6, 7, 8, 9]"
      ]
     },
     "execution_count": 16,
     "metadata": {},
     "output_type": "execute_result"
    }
   ],
   "source": [
    "# Range(start index,end index)  SI to EI-1\n",
    "for i in range(4,10):\n",
    "    print(i)\n",
    "list(range(4,10)) "
   ]
  },
  {
   "cell_type": "code",
   "execution_count": 17,
   "metadata": {},
   "outputs": [
    {
     "name": "stdout",
     "output_type": "stream",
     "text": [
      "3\n",
      "5\n",
      "7\n",
      "9\n"
     ]
    },
    {
     "data": {
      "text/plain": [
       "[3, 5, 7, 9]"
      ]
     },
     "execution_count": 17,
     "metadata": {},
     "output_type": "execute_result"
    }
   ],
   "source": [
    "# Range (start index,end index,step size) SI to EI-1 \n",
    "for i in range(3,10,2):\n",
    "    print(i)\n",
    "list(range(3,10,2))    "
   ]
  },
  {
   "cell_type": "code",
   "execution_count": 14,
   "metadata": {},
   "outputs": [
    {
     "name": "stdout",
     "output_type": "stream",
     "text": [
      "sum= 0\n",
      "sum= 1\n",
      "sum= 3\n",
      "sum= 6\n",
      "sum= 10\n"
     ]
    }
   ],
   "source": [
    "# Addition of number\n",
    "range(5)\n",
    "sum = 0\n",
    "for i in range(5):\n",
    "    sum = sum + i\n",
    "    print(\"sum=\",sum)"
   ]
  },
  {
   "cell_type": "markdown",
   "metadata": {},
   "source": [
    "# QUESTION 3\n",
    "\n",
    "  Consider two numbers. Perform their subtraction and if the result of subtraction is greater than\n",
    "  25, print their multiplication result else print their division result"
   ]
  },
  {
   "cell_type": "code",
   "execution_count": 40,
   "metadata": {},
   "outputs": [
    {
     "name": "stdout",
     "output_type": "stream",
     "text": [
      "As sunstraction is less than 25 hence we do divison of two values:\n",
      "1.6666666666666667\n"
     ]
    }
   ],
   "source": [
    "a = 50\n",
    "b = 30\n",
    "c = a - b\n",
    "if c > 25:\n",
    "    x = a*b\n",
    "    print(\"As substraction is greater than 25 hence we do multiplication of two values:\")\n",
    "    print(x)\n",
    "else:\n",
    "    x = a/b\n",
    "    print(\"As sunstraction is less than 25 hence we do divison of two values:\")\n",
    "    print(x)"
   ]
  },
  {
   "cell_type": "markdown",
   "metadata": {},
   "source": [
    "# QUESTION 4\n",
    "\n",
    "  Consider a list of 10 elements of integer values. If the number in the list is divisible by 2, print the\n",
    "  result as \"square of that number minus 2\"."
   ]
  },
  {
   "cell_type": "code",
   "execution_count": 36,
   "metadata": {},
   "outputs": [
    {
     "name": "stdout",
     "output_type": "stream",
     "text": [
      "7 is not divisible by 2\n",
      "11 is not divisible by 2\n",
      "18 is divisible by 2, so our new result: 322\n",
      "21 is not divisible by 2\n",
      "24 is divisible by 2, so our new result: 574\n",
      "25 is not divisible by 2\n",
      "31 is not divisible by 2\n",
      "3 is not divisible by 2\n",
      "15 is not divisible by 2\n",
      "28 is divisible by 2, so our new result: 782\n"
     ]
    }
   ],
   "source": [
    "x = (7,11,18,21,24,25,31,3,15,28)\n",
    "\n",
    "for i in x:\n",
    "    if i%2 == 0:\n",
    "        a = i**2 - 2\n",
    "        print(i,\"is divisible by 2,\",\"so our new result:\",a)\n",
    "    else:\n",
    "        print(i,\"is not divisible by 2\")"
   ]
  },
  {
   "cell_type": "markdown",
   "metadata": {},
   "source": [
    "# QUESTION 5\n",
    "\n",
    "  Consider a list of 10 elements. Print all the elements in the list which are greater than 7 when that\n",
    "  number is divided 2\n",
    "  "
   ]
  },
  {
   "cell_type": "code",
   "execution_count": 42,
   "metadata": {},
   "outputs": [
    {
     "name": "stdout",
     "output_type": "stream",
     "text": [
      "18 when divided by 2, then the value is greater than 7\n",
      "21 when divided by 2, then the value is greater than 7\n",
      "24 when divided by 2, then the value is greater than 7\n",
      "25 when divided by 2, then the value is greater than 7\n",
      "31 when divided by 2, then the value is greater than 7\n",
      "15 when divided by 2, then the value is greater than 7\n",
      "28 when divided by 2, then the value is greater than 7\n"
     ]
    }
   ],
   "source": [
    "x = (7,11,18,21,24,25,31,3,15,28)\n",
    "for i in x:\n",
    "    if i/2 > 7:\n",
    "        print(i,\"when divided by 2, then the value is greater than 7\")"
   ]
  },
  {
   "cell_type": "code",
   "execution_count": null,
   "metadata": {},
   "outputs": [],
   "source": []
  }
 ],
 "metadata": {
  "kernelspec": {
   "display_name": "Python 3",
   "language": "python",
   "name": "python3"
  },
  "language_info": {
   "codemirror_mode": {
    "name": "ipython",
    "version": 3
   },
   "file_extension": ".py",
   "mimetype": "text/x-python",
   "name": "python",
   "nbconvert_exporter": "python",
   "pygments_lexer": "ipython3",
   "version": "3.7.6"
  }
 },
 "nbformat": 4,
 "nbformat_minor": 4
}
