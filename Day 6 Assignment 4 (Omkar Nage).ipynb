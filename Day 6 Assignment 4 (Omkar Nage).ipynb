{
 "cells": [
  {
   "cell_type": "markdown",
   "metadata": {},
   "source": [
    "# QUESTION 1\n",
    "\n",
    "  Assuming that we have some email addresses in the \"username@companyname.com\" format, please write program\n",
    "  to print the company name of a given email address. Both user names and company names are composed of letters\n",
    "  only"
   ]
  },
  {
   "cell_type": "code",
   "execution_count": 2,
   "metadata": {},
   "outputs": [
    {
     "name": "stdout",
     "output_type": "stream",
     "text": [
      "Enter the email address:omkarnage07@gmail.com\n"
     ]
    }
   ],
   "source": [
    "a = str(input(\"Enter the email address:\"))\n"
   ]
  },
  {
   "cell_type": "code",
   "execution_count": 24,
   "metadata": {},
   "outputs": [
    {
     "name": "stdout",
     "output_type": "stream",
     "text": [
      "The company name:\n"
     ]
    },
    {
     "data": {
      "text/plain": [
       "'gmail'"
      ]
     },
     "execution_count": 24,
     "metadata": {},
     "output_type": "execute_result"
    }
   ],
   "source": [
    "print(\"The company name:\")\n",
    "b= a[(a.index(\"@\")+1):-4]\n",
    "b"
   ]
  },
  {
   "cell_type": "markdown",
   "metadata": {},
   "source": [
    "# QUESTION 2\n",
    "\n",
    "   Write a program that accepts a comma-separated sequence of words as input and prints the words in a comma\n",
    "   separated sequence after sorting them alphabetically\n",
    "   "
   ]
  },
  {
   "cell_type": "code",
   "execution_count": 25,
   "metadata": {},
   "outputs": [
    {
     "name": "stdout",
     "output_type": "stream",
     "text": [
      "Before Sorting the list:\n",
      " ['Omkar', 'Aniket', 'Vinit', 'Chinmay', 'Dipesh']\n",
      "\n",
      "After sorting list:\n",
      " ['Aniket', 'Chinmay', 'Dipesh', 'Omkar', 'Vinit']\n"
     ]
    }
   ],
   "source": [
    "a = [\"Omkar\",\"Aniket\",\"Vinit\",\"Chinmay\",\"Dipesh\"]\n",
    "print(\"Before Sorting the list:\\n\", a)\n",
    "\n",
    "a.sort()\n",
    "print(\"\\nAfter sorting list:\\n\",a)"
   ]
  },
  {
   "cell_type": "markdown",
   "metadata": {},
   "source": [
    "# QUESTION 3\n",
    "\n",
    "  Create your own Jupyter Notebook for Sets\n",
    "  "
   ]
  },
  {
   "cell_type": "markdown",
   "metadata": {},
   "source": [
    "# Python Sets\n"
   ]
  },
  {
   "cell_type": "markdown",
   "metadata": {},
   "source": [
    "# Set\n",
    "\n",
    "   A set is a collection which is unordered and unindexed. In Python sets are written with curly brackets.\n",
    "   Sets are unordered, so you cannot be sure in which order the items will appear"
   ]
  },
  {
   "cell_type": "code",
   "execution_count": 52,
   "metadata": {},
   "outputs": [
    {
     "name": "stdout",
     "output_type": "stream",
     "text": [
      "{'LU', 'ML', 'AI'}\n"
     ]
    }
   ],
   "source": [
    "A = {\"LU\", \"AI\", \"ML\"}\n",
    "print(A)"
   ]
  },
  {
   "cell_type": "markdown",
   "metadata": {},
   "source": [
    "# Access Items\n",
    "\n",
    "  You cannot access items in a set by referring to an index, since sets are unordered the items has no index.\n",
    "  But you can loop through the set items using a for loop, or ask if a specified value is present in a set, by using the in       keyword"
   ]
  },
  {
   "cell_type": "code",
   "execution_count": 53,
   "metadata": {},
   "outputs": [
    {
     "name": "stdout",
     "output_type": "stream",
     "text": [
      "banana\n",
      "apple\n",
      "cherry\n"
     ]
    }
   ],
   "source": [
    "B = {\"LU\", \"AI\", \"ML\"}\n",
    "\n",
    "for x in thisset:\n",
    "    print(x)"
   ]
  },
  {
   "cell_type": "markdown",
   "metadata": {},
   "source": [
    "# Add items\n",
    "\n",
    "   Once a set is created, you cannot change its items, but you can add new items.\n",
    "   To add one item to a set use the add() method.To add more than one item to a set use the update() method."
   ]
  },
  {
   "cell_type": "code",
   "execution_count": 54,
   "metadata": {},
   "outputs": [
    {
     "name": "stdout",
     "output_type": "stream",
     "text": [
      "{'OMKAR', 'LU', 'ML', 'AI'}\n"
     ]
    }
   ],
   "source": [
    "A = {\"LU\", \"AI\", \"ML\"}\n",
    "A.add(\"OMKAR\")\n",
    "print(A)"
   ]
  },
  {
   "cell_type": "code",
   "execution_count": 59,
   "metadata": {},
   "outputs": [
    {
     "name": "stdout",
     "output_type": "stream",
     "text": [
      "{'ML', 'Darshan sir', 'Dinesh sir', 'LU', 'Sai sir', 'AI'}\n"
     ]
    }
   ],
   "source": [
    "str = {\"LU\", \"AI\", \"ML\"}\n",
    "\n",
    "str.update([\"Darshan sir\",\"Sai sir\",\"Dinesh sir\"])\n",
    "\n",
    "print(str)\n"
   ]
  },
  {
   "cell_type": "markdown",
   "metadata": {},
   "source": [
    "# Get the Length of a Set\n",
    "\n",
    "   To determine how many items a set has, use the len() method."
   ]
  },
  {
   "cell_type": "code",
   "execution_count": 60,
   "metadata": {},
   "outputs": [
    {
     "name": "stdout",
     "output_type": "stream",
     "text": [
      "6\n"
     ]
    }
   ],
   "source": [
    "str1 = {\"AI\",\"ML\", \"LU\",\"Darshan sir\",\"Sai sir\",\"Dinesh sir\"}\n",
    "print(len(str1))"
   ]
  },
  {
   "cell_type": "markdown",
   "metadata": {},
   "source": [
    "# Remove Item\n",
    "\n",
    "  To remove an item in a set, use the remove(), or the discard() method.\n",
    "\n",
    "If the item to remove does not exist, remove() will raise an error.\n",
    "\n",
    "If the item to remove does not exist, discard() will NOT raise an error.\n",
    "\n",
    "You can also use the pop(), method to remove an item, but this method will remove the last item. Remember that sets are unordered, so you will not know what item that gets removed.\n",
    "\n",
    "The return value of the pop() method is the removed item.\n",
    "\n",
    "The clear() method empties the set.\n",
    "\n",
    "The del keyword will delete the set completely."
   ]
  },
  {
   "cell_type": "code",
   "execution_count": 61,
   "metadata": {},
   "outputs": [
    {
     "name": "stdout",
     "output_type": "stream",
     "text": [
      "{'LU', 'ML', 'AI'}\n"
     ]
    }
   ],
   "source": [
    "A = {\"LU\", \"AI\", \"ML\",\"OMKAR\"}\n",
    "A.remove(\"OMKAR\")\n",
    "print(A)"
   ]
  },
  {
   "cell_type": "code",
   "execution_count": 62,
   "metadata": {},
   "outputs": [
    {
     "name": "stdout",
     "output_type": "stream",
     "text": [
      "{'LU', 'ML', 'AI'}\n"
     ]
    }
   ],
   "source": [
    "A = {\"LU\", \"AI\", \"ML\",\"OMKAR\"}\n",
    "A.discard(\"OMKAR\")\n",
    "print(A)"
   ]
  },
  {
   "cell_type": "code",
   "execution_count": 63,
   "metadata": {},
   "outputs": [
    {
     "name": "stdout",
     "output_type": "stream",
     "text": [
      "OMKAR\n",
      "{'LU', 'ML', 'AI'}\n"
     ]
    }
   ],
   "source": [
    "A = {\"LU\", \"AI\", \"ML\",\"OMKAR\"}\n",
    "x = A.pop()\n",
    "print(x)\n",
    "print(A)"
   ]
  },
  {
   "cell_type": "code",
   "execution_count": 65,
   "metadata": {},
   "outputs": [
    {
     "name": "stdout",
     "output_type": "stream",
     "text": [
      "set()\n"
     ]
    }
   ],
   "source": [
    "A = {\"LU\", \"AI\", \"ML\",\"OMKAR\"}\n",
    "A.clear()\n",
    "print(A)"
   ]
  },
  {
   "cell_type": "code",
   "execution_count": 68,
   "metadata": {},
   "outputs": [
    {
     "ename": "NameError",
     "evalue": "name 'Lu' is not defined",
     "output_type": "error",
     "traceback": [
      "\u001b[1;31m---------------------------------------------------------------------------\u001b[0m",
      "\u001b[1;31mNameError\u001b[0m                                 Traceback (most recent call last)",
      "\u001b[1;32m<ipython-input-68-b281bc3fe7a7>\u001b[0m in \u001b[0;36m<module>\u001b[1;34m\u001b[0m\n\u001b[0;32m      3\u001b[0m \u001b[1;32mdel\u001b[0m \u001b[0mLu\u001b[0m\u001b[1;33m\u001b[0m\u001b[1;33m\u001b[0m\u001b[0m\n\u001b[0;32m      4\u001b[0m \u001b[1;33m\u001b[0m\u001b[0m\n\u001b[1;32m----> 5\u001b[1;33m \u001b[0mprint\u001b[0m\u001b[1;33m(\u001b[0m\u001b[0mLu\u001b[0m\u001b[1;33m)\u001b[0m\u001b[1;33m\u001b[0m\u001b[1;33m\u001b[0m\u001b[0m\n\u001b[0m\u001b[0;32m      6\u001b[0m \u001b[1;33m\u001b[0m\u001b[0m\n\u001b[0;32m      7\u001b[0m \u001b[1;31m#Error because set name thisset is permanently deleted and does not exist\u001b[0m\u001b[1;33m\u001b[0m\u001b[1;33m\u001b[0m\u001b[1;33m\u001b[0m\u001b[0m\n",
      "\u001b[1;31mNameError\u001b[0m: name 'Lu' is not defined"
     ]
    }
   ],
   "source": [
    "Lu = {\"apple\", \"banana\", \"cherry\"}\n",
    "\n",
    "del Lu\n",
    "\n",
    "print(Lu) \n",
    "\n",
    "#Error because set name thisset is permanently deleted and does not exist"
   ]
  },
  {
   "cell_type": "markdown",
   "metadata": {},
   "source": [
    "# Join Two Sets\n",
    "There are several ways to join two or more sets in Python.\n",
    "\n",
    "You can use the union() method that returns a new set containing all items from both sets, or the update() method that inserts all the items from one set into another.\n",
    "\n",
    "Both union() and update() will exclude any duplicate items."
   ]
  },
  {
   "cell_type": "code",
   "execution_count": 70,
   "metadata": {},
   "outputs": [
    {
     "name": "stdout",
     "output_type": "stream",
     "text": [
      "{1, 2, 3, 'LU', 'AI', 'ML'}\n"
     ]
    }
   ],
   "source": [
    "set1 = {\"LU\", \"AI\" , \"ML\"}\n",
    "set2 = {1, 2, 3}\n",
    "\n",
    "set3 = set1.union(set2)\n",
    "print(set3)"
   ]
  },
  {
   "cell_type": "code",
   "execution_count": 72,
   "metadata": {},
   "outputs": [
    {
     "name": "stdout",
     "output_type": "stream",
     "text": [
      "{'LU', 7, 'AI', 10, 11, 'ML'}\n"
     ]
    }
   ],
   "source": [
    "set1 = {\"LU\", \"AI\" , \"ML\"}\n",
    "set2 = {7, 10, 11}\n",
    "\n",
    "set1.update(set2)\n",
    "print(set1)"
   ]
  },
  {
   "cell_type": "markdown",
   "metadata": {},
   "source": [
    "# QUESTION 4\n",
    "\n",
    "  Given a list of n-1 numbers ranging from 1 to n, your task is to find the missing number. There are no duplicates"
   ]
  },
  {
   "cell_type": "code",
   "execution_count": 30,
   "metadata": {},
   "outputs": [
    {
     "name": "stdout",
     "output_type": "stream",
     "text": [
      "4 7 "
     ]
    }
   ],
   "source": [
    "l = [1,2,3,5,6,8,9]\n",
    "\n",
    "for i in range(1,10):\n",
    "    if i not in l:\n",
    "        print(i,end=\" \")"
   ]
  },
  {
   "cell_type": "markdown",
   "metadata": {},
   "source": [
    "# QUESTION 5\n",
    "\n",
    "  With a given list L, write a program to print this list L after removing all duplicate values with original order reserved."
   ]
  },
  {
   "cell_type": "code",
   "execution_count": 48,
   "metadata": {},
   "outputs": [
    {
     "name": "stdout",
     "output_type": "stream",
     "text": [
      "The give list: [12, 24, 35, 24, 88, 120, 155, 88, 120, 155]\n",
      "After removing all duplicate value with original order reserved: [12, 35, 24, 88, 120, 155]\n"
     ]
    }
   ],
   "source": [
    "# The input list is \n",
    "a = [12,24,35,24,88,120,155,88,120,155]\n",
    "print(\"The give list:\",a)\n",
    "# remove duplicate values from the given list\n",
    "a.remove(24)\n",
    "a.remove(120)\n",
    "a.remove(155)\n",
    "a.remove(88)\n",
    "# after remove duplicate value from the list \n",
    "print(\"After removing all duplicate value with original order reserved:\",a)"
   ]
  }
 ],
 "metadata": {
  "kernelspec": {
   "display_name": "Python 3",
   "language": "python",
   "name": "python3"
  },
  "language_info": {
   "codemirror_mode": {
    "name": "ipython",
    "version": 3
   },
   "file_extension": ".py",
   "mimetype": "text/x-python",
   "name": "python",
   "nbconvert_exporter": "python",
   "pygments_lexer": "ipython3",
   "version": "3.7.6"
  }
 },
 "nbformat": 4,
 "nbformat_minor": 4
}
