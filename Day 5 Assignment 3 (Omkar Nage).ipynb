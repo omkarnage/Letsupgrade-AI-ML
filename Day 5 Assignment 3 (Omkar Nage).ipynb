{
 "cells": [
  {
   "cell_type": "markdown",
   "metadata": {},
   "source": [
    "# QUESTION 1\n",
    "\n",
    "  Write a Python program to find the first 20 non-even prime natural numbers"
   ]
  },
  {
   "cell_type": "code",
   "execution_count": 6,
   "metadata": {},
   "outputs": [
    {
     "name": "stdout",
     "output_type": "stream",
     "text": [
      "1 3 5 7 9 11 13 15 17 19 21 23 25 27 29 31 33 35 37 39 "
     ]
    }
   ],
   "source": [
    "for i in range(1,40,2):\n",
    "    print(i,end=\" \")\n"
   ]
  },
  {
   "cell_type": "code",
   "execution_count": 12,
   "metadata": {},
   "outputs": [
    {
     "name": "stdout",
     "output_type": "stream",
     "text": [
      "The first 20 non even prime natural number are:\n",
      "3 5 7 11 13 17 19 23 29 31 37 41 43 47 53 59 61 67 71 73 "
     ]
    }
   ],
   "source": [
    "a = 0\n",
    "print(\"The first 20 non even prime natural number are:\")\n",
    "for num in range(3,100):\n",
    "    if num>1:\n",
    "        for i in range(2,num):\n",
    "            if(num%i)==0:\n",
    "                break\n",
    "        else:\n",
    "            a+=1\n",
    "            print(num,end=\" \")\n",
    "        if a==20:\n",
    "            break"
   ]
  },
  {
   "cell_type": "markdown",
   "metadata": {},
   "source": [
    "# QUESTION 2\n",
    "\n",
    "  Write a Python program to implement 15 functions of string"
   ]
  },
  {
   "cell_type": "code",
   "execution_count": 44,
   "metadata": {},
   "outputs": [
    {
     "name": "stdout",
     "output_type": "stream",
     "text": [
      "str.capitalize() =  Omkar nage\n",
      "len(str) =  10\n",
      "str.isalnum()= False\n",
      "str.isalpha= False\n",
      "str.isdigit= False\n",
      "str.isdecimal= False\n",
      "str.lower= omkar nage\n",
      "str.replace= OMKAR NAGE\n",
      "str.swapcase= omkar nage\n",
      "str.title= Omkar Nage\n",
      "str.isupper= True\n",
      "str.istitle= False\n",
      "str.isspace= False\n",
      "str.find= 6\n",
      "str.islower= False\n"
     ]
    }
   ],
   "source": [
    "str = \"OMKAR NAGE\"\n",
    "print('str.capitalize() = ', str.capitalize())\n",
    "print('len(str) = ', len(str))\n",
    "print('str.isalnum()=',str.isalnum())\n",
    "print('str.isalpha=',str.isalpha())\n",
    "print('str.isdigit=',str.isdigit())\n",
    "print('str.isdecimal=',str.isdecimal())\n",
    "print('str.lower=',str.lower())\n",
    "print('str.replace=',str.replace(\"a\",\"x\"))\n",
    "print('str.swapcase=',str.swapcase())\n",
    "print('str.title=',str.title())\n",
    "print('str.isupper=',str.isupper())\n",
    "print('str.istitle=',str.istitle())\n",
    "print('str.isspace=',str.isspace())\n",
    "print('str.find=',str.find(\"N\"))\n",
    "print('str.islower=',str.islower())\n"
   ]
  },
  {
   "cell_type": "markdown",
   "metadata": {},
   "source": [
    "# QUESTION 3\n",
    "\n",
    " Write a Python program to check if the given string is a Palindrome or Anagram or None of them.\n",
    "Display the message accordingly to the user."
   ]
  },
  {
   "cell_type": "code",
   "execution_count": 62,
   "metadata": {},
   "outputs": [
    {
     "name": "stdout",
     "output_type": "stream",
     "text": [
      "MADAM ,It is a palindrome\n",
      "MADAM ,It is a palindrome\n"
     ]
    }
   ],
   "source": [
    "# FIRST STEP\n",
    "a = ('MADAM')\n",
    "b = a[-1::-1]\n",
    "if(a==b):\n",
    "    print(a,\",It is a palindrome\")\n",
    "else:\n",
    "    print(a,\",It is Not a palindrome\")  \n",
    "    \n",
    "#SECOND STEP\n",
    "def checkpalindrome(p):\n",
    "    if p == p[-1::-1]:\n",
    "        print(p,\",It is a palindrome\")\n",
    "    else:\n",
    "        print(p,\",It is not a palindrome\")\n",
    "        \n",
    "checkpalindrome(\"MADAM\")    "
   ]
  },
  {
   "cell_type": "code",
   "execution_count": 60,
   "metadata": {},
   "outputs": [
    {
     "name": "stdout",
     "output_type": "stream",
     "text": [
      "The strings are anagrams.\n"
     ]
    }
   ],
   "source": [
    "# function to check if two strings are \n",
    "# anagram or not  \n",
    "def check(s1, s2): \n",
    "      \n",
    "    # the sorted strings are checked  \n",
    "    if(sorted(s1)== sorted(s2)): \n",
    "        print(\"The strings are anagrams.\")  \n",
    "    else: \n",
    "        print(\"The strings aren't anagrams.\")          \n",
    "          \n",
    "# driver code   \n",
    "s1 =\"listen\"\n",
    "s2 =\"silent\" \n",
    "check(s1, s2)"
   ]
  },
  {
   "cell_type": "markdown",
   "metadata": {},
   "source": [
    "# QUESTION 4\n",
    "\n",
    "  Write a Python's user defined function that removes all the additional characters from the string\n",
    "and converts it finally to lower case using built-in lower(). eg: If the string is \"Dr. Darshan Ingle\n",
    "@AI-ML Trainer\", then the output be \"drdarshaningleaimltrainer\"."
   ]
  },
  {
   "cell_type": "code",
   "execution_count": 68,
   "metadata": {},
   "outputs": [
    {
     "data": {
      "text/plain": [
       "'DrDarshaningleALMLTrainer'"
      ]
     },
     "execution_count": 68,
     "metadata": {},
     "output_type": "execute_result"
    }
   ],
   "source": [
    "a = \"Dr.Darshan ingle @AL-ML Trainer\"\n",
    "\n",
    "b =[\".\",\" \",\"@\", \"-\"]\n",
    "\n",
    "for i in b:\n",
    "    a = a.replace(i,\"\")\n",
    "a"
   ]
  },
  {
   "cell_type": "code",
   "execution_count": 71,
   "metadata": {},
   "outputs": [
    {
     "data": {
      "text/plain": [
       "'drdarshaninglealmltrainer'"
      ]
     },
     "execution_count": 71,
     "metadata": {},
     "output_type": "execute_result"
    }
   ],
   "source": [
    "a = a.lower()\n",
    "a"
   ]
  },
  {
   "cell_type": "code",
   "execution_count": null,
   "metadata": {},
   "outputs": [],
   "source": []
  },
  {
   "cell_type": "code",
   "execution_count": null,
   "metadata": {},
   "outputs": [],
   "source": []
  }
 ],
 "metadata": {
  "kernelspec": {
   "display_name": "Python 3",
   "language": "python",
   "name": "python3"
  },
  "language_info": {
   "codemirror_mode": {
    "name": "ipython",
    "version": 3
   },
   "file_extension": ".py",
   "mimetype": "text/x-python",
   "name": "python",
   "nbconvert_exporter": "python",
   "pygments_lexer": "ipython3",
   "version": "3.7.6"
  }
 },
 "nbformat": 4,
 "nbformat_minor": 4
}
