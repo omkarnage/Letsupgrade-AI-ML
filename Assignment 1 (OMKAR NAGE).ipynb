{
 "cells": [
  {
   "cell_type": "markdown",
   "metadata": {},
   "source": [
    "# QUESTION 1\n",
    "\n",
    "   Write a program to subtract two complex numbers in Python\n",
    " \n",
    "    \n"
   ]
  },
  {
   "cell_type": "code",
   "execution_count": 11,
   "metadata": {},
   "outputs": [
    {
     "name": "stdout",
     "output_type": "stream",
     "text": [
      "(4+7j)\n"
     ]
    }
   ],
   "source": [
    "a=11+18j\n",
    "b=7+11j\n",
    "c=a-b\n",
    "print(c)"
   ]
  },
  {
   "cell_type": "markdown",
   "metadata": {},
   "source": [
    "# QUESTION 2\n",
    "\n",
    "Write a program to find the fourth root of a number."
   ]
  },
  {
   "cell_type": "code",
   "execution_count": 2,
   "metadata": {},
   "outputs": [
    {
     "name": "stdout",
     "output_type": "stream",
     "text": [
      "1.6265765616977856\n"
     ]
    }
   ],
   "source": [
    "a=7\n",
    "print(a**0.25)"
   ]
  },
  {
   "cell_type": "code",
   "execution_count": 9,
   "metadata": {},
   "outputs": [
    {
     "name": "stdout",
     "output_type": "stream",
     "text": [
      "1.8211602868378718\n"
     ]
    }
   ],
   "source": [
    "a=11\n",
    "print(a**(1/4))"
   ]
  },
  {
   "cell_type": "markdown",
   "metadata": {},
   "source": [
    "# QUESTION 3\n",
    "  \n",
    "   Write a program to swap two numbers in Python with the help of a temporary variable"
   ]
  },
  {
   "cell_type": "code",
   "execution_count": 11,
   "metadata": {},
   "outputs": [
    {
     "name": "stdout",
     "output_type": "stream",
     "text": [
      "The value of x after swapping x= 20\n",
      "The value of y after swapping y= 10\n"
     ]
    }
   ],
   "source": [
    "x=10\n",
    "y=20\n",
    "\n",
    "# create a temporary variable and swap the values\n",
    "\n",
    "temp=x\n",
    "x=y\n",
    "y=temp\n",
    "\n",
    "# To take inputs from the user\n",
    "#x = input('Enter value of x: ')\n",
    "#y = input('Enter value of y: ')\n",
    "\n",
    "print(\"The value of x after swapping x=\",x)\n",
    "print(\"The value of y after swapping y=\",y)\n"
   ]
  },
  {
   "cell_type": "markdown",
   "metadata": {},
   "source": [
    "# QUESTION 4\n",
    "\n",
    "   Write a program to swap two numbers in Python without using a temporary variable"
   ]
  },
  {
   "cell_type": "code",
   "execution_count": 13,
   "metadata": {},
   "outputs": [
    {
     "name": "stdout",
     "output_type": "stream",
     "text": [
      "The value of x after swapping x= 5\n",
      "The value of y after swapping y= 10\n"
     ]
    }
   ],
   "source": [
    "x = 10\n",
    "y = 5\n",
    "\n",
    "#code to swap 'x' and 'y'\n",
    "\n",
    "x = x + y\n",
    "# x now becomes 15\n",
    "\n",
    "y = x - y\n",
    "# y now becomes 10\n",
    "\n",
    "x = x - y\n",
    "# x now becomes 5\n",
    "\n",
    "print(\"The value of x after swapping x=\",x)\n",
    "print(\"The value of y after swapping y=\",y)"
   ]
  },
  {
   "cell_type": "markdown",
   "metadata": {},
   "source": [
    "# QUESTION 5\n",
    "\n",
    " Write a program to convert fahrenheit to kelvin and celsius both"
   ]
  },
  {
   "cell_type": "code",
   "execution_count": 3,
   "metadata": {},
   "outputs": [],
   "source": [
    "#Fahrenheit value in 'x'\n",
    "\n",
    "#Degree celsius value in 'y'\n",
    "\n",
    "#Formula to convert fahrenheit to degree celsius (x°F -32)*5/9\n",
    "\n",
    "#kelvin value in 'z'\n",
    "\n",
    "#formula to convert fahrenheit to kelvin (x°F -32)*5/9 + 273.15"
   ]
  },
  {
   "cell_type": "code",
   "execution_count": 4,
   "metadata": {},
   "outputs": [
    {
     "name": "stdout",
     "output_type": "stream",
     "text": [
      "Degree celsius value = 75\n",
      "Fahrenheit value = 23.88888888888889\n",
      "Kelvin value= 297.0388888888889\n"
     ]
    }
   ],
   "source": [
    "x = 75 \n",
    "y = (x-32)*(5/9)\n",
    "z = y + 273.15\n",
    "\n",
    "print(\"Degree celsius value =\",x)\n",
    "print(\"Fahrenheit value =\",y)\n",
    "print(\"Kelvin value=\",z)"
   ]
  },
  {
   "cell_type": "markdown",
   "metadata": {},
   "source": [
    "# QUESTION 6\n",
    "\n",
    "  Write a program to demonstrate all the available data types in Python. Hint: Use type() function"
   ]
  },
  {
   "cell_type": "code",
   "execution_count": 8,
   "metadata": {},
   "outputs": [],
   "source": [
    "a = 11"
   ]
  },
  {
   "cell_type": "code",
   "execution_count": 9,
   "metadata": {},
   "outputs": [
    {
     "data": {
      "text/plain": [
       "int"
      ]
     },
     "execution_count": 9,
     "metadata": {},
     "output_type": "execute_result"
    }
   ],
   "source": [
    "type(a)"
   ]
  },
  {
   "cell_type": "code",
   "execution_count": 13,
   "metadata": {},
   "outputs": [],
   "source": [
    "b = 11.18"
   ]
  },
  {
   "cell_type": "code",
   "execution_count": 12,
   "metadata": {},
   "outputs": [
    {
     "data": {
      "text/plain": [
       "float"
      ]
     },
     "execution_count": 12,
     "metadata": {},
     "output_type": "execute_result"
    }
   ],
   "source": [
    "type(b)"
   ]
  },
  {
   "cell_type": "code",
   "execution_count": 14,
   "metadata": {},
   "outputs": [],
   "source": [
    "c = \"OMKAR NAGE\""
   ]
  },
  {
   "cell_type": "code",
   "execution_count": 15,
   "metadata": {},
   "outputs": [
    {
     "data": {
      "text/plain": [
       "str"
      ]
     },
     "execution_count": 15,
     "metadata": {},
     "output_type": "execute_result"
    }
   ],
   "source": [
    "type(c)"
   ]
  },
  {
   "cell_type": "markdown",
   "metadata": {},
   "source": [
    "# QUESTION 7\n",
    "\n",
    "  Create a Markdown cell in jupyter and list the steps discussed in the session by Dr. Darshan\n",
    "   Ingle sir to create Github profile and upload Githubs Assignment link."
   ]
  },
  {
   "cell_type": "markdown",
   "metadata": {},
   "source": [
    "1) Open Github\n",
    "\n",
    "2) Create a github account by singning up with gmail account\n",
    "\n",
    "3) Account is automatically made public or if not then make it public so that anyone can review your work \n",
    "\n",
    "4) Create a repositories by naming it as LetsUpgrade AI/ML\n",
    "\n",
    "5) Then upload assignments under this repositories \n",
    "\n",
    "6) After uploading assignments then copy URL of that link from Github\n",
    "\n",
    "7) Then go to lets upgrade assignment submission link & open it and fill all the details properly\n",
    "\n",
    "8) Then paste the copied URL link of assignment of that day from github\n",
    "\n"
   ]
  },
  {
   "cell_type": "code",
   "execution_count": null,
   "metadata": {},
   "outputs": [],
   "source": []
  }
 ],
 "metadata": {
  "kernelspec": {
   "display_name": "Python 3",
   "language": "python",
   "name": "python3"
  },
  "language_info": {
   "codemirror_mode": {
    "name": "ipython",
    "version": 3
   },
   "file_extension": ".py",
   "mimetype": "text/x-python",
   "name": "python",
   "nbconvert_exporter": "python",
   "pygments_lexer": "ipython3",
   "version": "3.7.6"
  }
 },
 "nbformat": 4,
 "nbformat_minor": 4
}
